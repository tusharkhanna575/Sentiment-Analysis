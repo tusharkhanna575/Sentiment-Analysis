{
  "nbformat": 4,
  "nbformat_minor": 0,
  "metadata": {
    "colab": {
      "private_outputs": true,
      "provenance": [],
      "authorship_tag": "ABX9TyPKbrzJmoJLRBdGPOBhMVmm",
      "include_colab_link": true
    },
    "kernelspec": {
      "name": "python3",
      "display_name": "Python 3"
    },
    "language_info": {
      "name": "python"
    }
  },
  "cells": [
    {
      "cell_type": "markdown",
      "metadata": {
        "id": "view-in-github",
        "colab_type": "text"
      },
      "source": [
        "<a href=\"https://colab.research.google.com/github/tusharkhanna575/Sentiment-Analysis/blob/main/Summarizer.ipynb\" target=\"_parent\"><img src=\"https://colab.research.google.com/assets/colab-badge.svg\" alt=\"Open In Colab\"/></a>"
      ]
    },
    {
      "cell_type": "code",
      "execution_count": null,
      "metadata": {
        "id": "iravnmbEAFyP"
      },
      "outputs": [],
      "source": [
        "pip install nltk"
      ]
    },
    {
      "cell_type": "code",
      "source": [
        "pip install textblob"
      ],
      "metadata": {
        "id": "CWfeZ7FSAywa"
      },
      "execution_count": null,
      "outputs": []
    },
    {
      "cell_type": "code",
      "source": [
        "pip install newspaper3k"
      ],
      "metadata": {
        "id": "CTOGjmVxA05o"
      },
      "execution_count": null,
      "outputs": []
    },
    {
      "cell_type": "code",
      "source": [
        "import nltk\n",
        "from newspaper import Article\n",
        "from textblob import TextBlob"
      ],
      "metadata": {
        "id": "G4Vt6e_3A4PW"
      },
      "execution_count": null,
      "outputs": []
    },
    {
      "cell_type": "code",
      "source": [
        "nltk.download('punkt')"
      ],
      "metadata": {
        "id": "eJD5Yr6HBJCU"
      },
      "execution_count": null,
      "outputs": []
    },
    {
      "cell_type": "code",
      "source": [
        "url=str(input(\"Enter the link of the article to be summarized : \"))\n",
        "article=Article(url)\n",
        "article.download()\n",
        "article.parse()\n",
        "article.nlp()\n",
        "print(f\"Title : {article.title}\")\n",
        "print(f\"Author(s) : {article.authors}\")\n",
        "print(f\"Publication Date : {article.publish_date}\")\n",
        "print(f\"Summary : {article.summary}\")"
      ],
      "metadata": {
        "id": "jPbfv7WCBPFc"
      },
      "execution_count": null,
      "outputs": []
    },
    {
      "cell_type": "markdown",
      "source": [
        "**First way of doing sentiment analysis by using textblob module**"
      ],
      "metadata": {
        "id": "26VHxQuoGD7v"
      }
    },
    {
      "cell_type": "code",
      "source": [
        "analysis=TextBlob(article.text)\n",
        "print(analysis.sentiment)"
      ],
      "metadata": {
        "id": "cgqHkuVTEESN"
      },
      "execution_count": null,
      "outputs": []
    },
    {
      "cell_type": "code",
      "source": [
        "print(f\"Sentiment Analysis : {'positive :)' if analysis.polarity>0 else 'negative :(' if analysis.polarity<0 else 'neutral :|' }\")"
      ],
      "metadata": {
        "id": "uwGPOkNyEwRZ"
      },
      "execution_count": null,
      "outputs": []
    },
    {
      "cell_type": "markdown",
      "source": [
        "**Second way of doing sentiment analysis by using the vader sentiment module**"
      ],
      "metadata": {
        "id": "hrtX-SCUGM4-"
      }
    },
    {
      "cell_type": "code",
      "source": [
        "pip install vaderSentiment"
      ],
      "metadata": {
        "id": "BjTAjMtDEwxc"
      },
      "execution_count": null,
      "outputs": []
    },
    {
      "cell_type": "code",
      "source": [
        "from vaderSentiment.vaderSentiment import SentimentIntensityAnalyzer\n",
        "sid_obj= SentimentIntensityAnalyzer()\n",
        "print(sid_obj.polarity_scores(article.text)) "
      ],
      "metadata": {
        "id": "eAW722A1EyrQ"
      },
      "execution_count": null,
      "outputs": []
    }
  ]
}